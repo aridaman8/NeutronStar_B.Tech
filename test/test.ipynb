{
 "cells": [
  {
   "cell_type": "code",
   "execution_count": 1,
   "metadata": {},
   "outputs": [
    {
     "name": "stderr",
     "output_type": "stream",
     "text": [
      "┌ Info: Precompiling ODESolvers [top-level]\n",
      "└ @ Base loading.jl:1192\n",
      "ERROR: LoadError: LoadError: invalid subtyping in definition of AbstractSundialsIntegrator\n",
      "Stacktrace:\n",
      " [1] top-level scope at none:0\n",
      " [2] include at ./boot.jl:317 [inlined]\n",
      " [3] include_relative(::Module, ::String) at ./loading.jl:1044\n",
      " [4] include at ./sysimg.jl:29 [inlined]\n",
      " [5] include(::String) at /Users/yanagi/.julia/packages/Sundials/WX2kB/src/Sundials.jl:3\n",
      " [6] top-level scope at none:0\n",
      " [7] include at ./boot.jl:317 [inlined]\n",
      " [8] include_relative(::Module, ::String) at ./loading.jl:1044\n",
      " [9] include(::Module, ::String) at ./sysimg.jl:29\n",
      " [10] top-level scope at none:2\n",
      " [11] eval at ./boot.jl:319 [inlined]\n",
      " [12] eval(::Expr) at ./client.jl:393\n",
      " [13] top-level scope at ./none:3\n",
      "in expression starting at /Users/yanagi/.julia/packages/Sundials/WX2kB/src/common_interface/integrator_types.jl:16\n",
      "in expression starting at /Users/yanagi/.julia/packages/Sundials/WX2kB/src/Sundials.jl:65\n",
      "ERROR: LoadError: Failed to precompile Sundials [c3572dad-4567-51f8-b174-8c6c989267f4] to /Users/yanagi/.julia/compiled/v1.0/Sundials/j8Ppj.ji.\n",
      "Stacktrace:\n",
      " [1] error(::String) at ./error.jl:33\n",
      " [2] compilecache(::Base.PkgId, ::String) at ./loading.jl:1203\n",
      " [3] _require(::Base.PkgId) at ./loading.jl:960\n",
      " [4] require(::Base.PkgId) at ./loading.jl:858\n",
      " [5] require(::Module, ::Symbol) at ./loading.jl:853\n",
      " [6] include at ./boot.jl:317 [inlined]\n",
      " [7] include_relative(::Module, ::String) at ./loading.jl:1044\n",
      " [8] include(::Module, ::String) at ./sysimg.jl:29\n",
      " [9] top-level scope at none:2\n",
      " [10] eval at ./boot.jl:319 [inlined]\n",
      " [11] eval(::Expr) at ./client.jl:393\n",
      " [12] top-level scope at ./none:3\n",
      "in expression starting at /Users/yanagi/.julia/packages/DifferentialEquations/88DSk/src/DifferentialEquations.jl:15\n",
      "ERROR: LoadError: Failed to precompile DifferentialEquations [0c46a032-eb83-5123-abaf-570d42b7fbaa] to /Users/yanagi/.julia/compiled/v1.0/DifferentialEquations/UQdwS.ji.\n",
      "Stacktrace:\n",
      " [1] error(::String) at ./error.jl:33\n",
      " [2] compilecache(::Base.PkgId, ::String) at ./loading.jl:1203\n",
      " [3] _require(::Base.PkgId) at ./loading.jl:960\n",
      " [4] require(::Base.PkgId) at ./loading.jl:858\n",
      " [5] require(::Module, ::Symbol) at ./loading.jl:853\n",
      " [6] include at ./boot.jl:317 [inlined]\n",
      " [7] include_relative(::Module, ::String) at ./loading.jl:1044\n",
      " [8] include(::Module, ::String) at ./sysimg.jl:29\n",
      " [9] top-level scope at none:2\n",
      " [10] eval at ./boot.jl:319 [inlined]\n",
      " [11] eval(::Expr) at ./client.jl:393\n",
      " [12] top-level scope at ./none:3\n",
      "in expression starting at /Users/yanagi/Apps/NSHeat/src/ODESolvers.jl:8\n"
     ]
    },
    {
     "ename": "ErrorException",
     "evalue": "Failed to precompile ODESolvers [top-level] to /Users/yanagi/.julia/compiled/v1.0/ODESolvers.ji.",
     "output_type": "error",
     "traceback": [
      "Failed to precompile ODESolvers [top-level] to /Users/yanagi/.julia/compiled/v1.0/ODESolvers.ji.",
      "",
      "Stacktrace:",
      " [1] error(::String) at ./error.jl:33",
      " [2] compilecache(::Base.PkgId, ::String) at ./loading.jl:1203",
      " [3] _require(::Base.PkgId) at ./loading.jl:960",
      " [4] require(::Base.PkgId) at ./loading.jl:858",
      " [5] require(::Module, ::Symbol) at ./loading.jl:853",
      " [6] top-level scope at In[1]:3"
     ]
    }
   ],
   "source": [
    "push!(LOAD_PATH, \"../src/\")\n",
    "using Setup\n",
    "using ODESolvers"
   ]
  },
  {
   "cell_type": "code",
   "execution_count": 2,
   "metadata": {},
   "outputs": [
    {
     "data": {
      "text/plain": [
       "0.567"
      ]
     },
     "execution_count": 2,
     "metadata": {},
     "output_type": "execute_result"
    }
   ],
   "source": [
    "include(\"../src/PhysicalConstants.jl\")"
   ]
  },
  {
   "cell_type": "code",
   "execution_count": 3,
   "metadata": {},
   "outputs": [
    {
     "ename": "UndefVarError",
     "evalue": "UndefVarError: cooling not defined",
     "output_type": "error",
     "traceback": [
      "UndefVarError: cooling not defined",
      "",
      "Stacktrace:",
      " [1] top-level scope at In[3]:2"
     ]
    }
   ],
   "source": [
    "model, core, env, var = setup(\"../src/sample.ini\")\n",
    "sol = cooling(model, core, env, var, (0.1, 1e9));"
   ]
  },
  {
   "cell_type": "code",
   "execution_count": 4,
   "metadata": {},
   "outputs": [
    {
     "ename": "UndefVarError",
     "evalue": "UndefVarError: cooling not defined",
     "output_type": "error",
     "traceback": [
      "UndefVarError: cooling not defined",
      "",
      "Stacktrace:",
      " [1] top-level scope at In[4]:2"
     ]
    }
   ],
   "source": [
    "model, core, env, var = setup(\"../src/sample2.ini\")\n",
    "sol2 = cooling(model, core, env, var, (0.1, 2e6));"
   ]
  },
  {
   "cell_type": "code",
   "execution_count": 5,
   "metadata": {},
   "outputs": [
    {
     "data": {
      "text/plain": [
       "Plots.PyPlotBackend()"
      ]
     },
     "execution_count": 5,
     "metadata": {},
     "output_type": "execute_result"
    }
   ],
   "source": [
    "using Plots\n",
    "pyplot()"
   ]
  },
  {
   "cell_type": "code",
   "execution_count": 6,
   "metadata": {},
   "outputs": [
    {
     "ename": "UndefVarError",
     "evalue": "UndefVarError: sol not defined",
     "output_type": "error",
     "traceback": [
      "UndefVarError: sol not defined",
      "",
      "Stacktrace:",
      " [1] top-level scope at In[6]:1"
     ]
    }
   ],
   "source": [
    "plot(sol.t, sol.u, scale=:log10, yscale=:log10)\n",
    "plot!(sol2.t, sol2.u, scale=:log10, yscale=:log10)\n",
    "ylims!(1e2,1e11)"
   ]
  },
  {
   "cell_type": "code",
   "execution_count": 7,
   "metadata": {},
   "outputs": [
    {
     "ename": "UndefVarError",
     "evalue": "UndefVarError: heating not defined",
     "output_type": "error",
     "traceback": [
      "UndefVarError: heating not defined",
      "",
      "Stacktrace:",
      " [1] top-level scope at In[7]:2"
     ]
    }
   ],
   "source": [
    "model, core, env, var = setup(\"../src/sample.ini\")\n",
    "sol = heating(model, core, env, var, (var.t,1e9), 1e-10, 1e-10);"
   ]
  },
  {
   "cell_type": "code",
   "execution_count": 8,
   "metadata": {},
   "outputs": [
    {
     "ename": "UndefVarError",
     "evalue": "UndefVarError: sol not defined",
     "output_type": "error",
     "traceback": [
      "UndefVarError: sol not defined",
      "",
      "Stacktrace:",
      " [1] top-level scope at In[8]:1"
     ]
    }
   ],
   "source": [
    "T = map(u->u[1], sol.u);\n",
    "eta_e = map(u->u[2]/kB, sol.u);\n",
    "eta_mu = map(u->u[3]/kB, sol.u);"
   ]
  },
  {
   "cell_type": "code",
   "execution_count": 9,
   "metadata": {},
   "outputs": [
    {
     "ename": "UndefVarError",
     "evalue": "UndefVarError: sol not defined",
     "output_type": "error",
     "traceback": [
      "UndefVarError: sol not defined",
      "",
      "Stacktrace:",
      " [1] top-level scope at In[9]:1"
     ]
    }
   ],
   "source": [
    "plot(sol.t, T, scale=:log10)\n",
    "plot!(sol.t, abs.(eta_e), scale=:log10)\n",
    "plot!(sol.t, eta_mu, scale=:log10)\n",
    "ylims!(1e4,1e11)"
   ]
  },
  {
   "cell_type": "code",
   "execution_count": 10,
   "metadata": {},
   "outputs": [
    {
     "ename": "UndefVarError",
     "evalue": "UndefVarError: heating not defined",
     "output_type": "error",
     "traceback": [
      "UndefVarError: heating not defined",
      "",
      "Stacktrace:",
      " [1] top-level scope at In[10]:2"
     ]
    }
   ],
   "source": [
    "model, core, env, var = setup(\"../src/sample2.ini\")\n",
    "sol = heating(model, core, env, var, (var.t,1e7), 1e-15, 1e-15);"
   ]
  },
  {
   "cell_type": "code",
   "execution_count": 11,
   "metadata": {},
   "outputs": [
    {
     "ename": "UndefVarError",
     "evalue": "UndefVarError: sol not defined",
     "output_type": "error",
     "traceback": [
      "UndefVarError: sol not defined",
      "",
      "Stacktrace:",
      " [1] top-level scope at In[11]:1"
     ]
    }
   ],
   "source": [
    "T = map(u->u[1], sol.u);\n",
    "eta_e = map(u->u[2]/kB, sol.u);\n",
    "eta_mu = map(u->u[3]/kB, sol.u);"
   ]
  },
  {
   "cell_type": "code",
   "execution_count": 12,
   "metadata": {},
   "outputs": [
    {
     "ename": "UndefVarError",
     "evalue": "UndefVarError: sol not defined",
     "output_type": "error",
     "traceback": [
      "UndefVarError: sol not defined",
      "",
      "Stacktrace:",
      " [1] top-level scope at In[12]:1"
     ]
    }
   ],
   "source": [
    "plot(sol.t, T, scale=:log10)\n",
    "plot!(sol.t, abs.(eta_e), scale=:log10)\n",
    "plot!(sol.t, eta_mu, scale=:log10)\n",
    "ylims!(1e4,1e11)"
   ]
  },
  {
   "cell_type": "code",
   "execution_count": null,
   "metadata": {},
   "outputs": [],
   "source": []
  }
 ],
 "metadata": {
  "kernelspec": {
   "display_name": "Julia 1.0.3",
   "language": "julia",
   "name": "julia-1.0"
  },
  "language_info": {
   "file_extension": ".jl",
   "mimetype": "application/julia",
   "name": "julia",
   "version": "1.0.3"
  }
 },
 "nbformat": 4,
 "nbformat_minor": 2
}
