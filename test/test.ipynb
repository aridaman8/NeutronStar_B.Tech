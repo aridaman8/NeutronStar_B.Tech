{
 "cells": [
  {
   "cell_type": "code",
   "execution_count": 1,
   "metadata": {},
   "outputs": [],
   "source": [
    "push!(LOAD_PATH, \"../src/\")\n",
    "using Setup\n",
    "using ODESolvers\n",
    "using Output"
   ]
  },
  {
   "cell_type": "code",
   "execution_count": 2,
   "metadata": {},
   "outputs": [
    {
     "data": {
      "text/plain": [
       "0.567"
      ]
     },
     "execution_count": 2,
     "metadata": {},
     "output_type": "execute_result"
    }
   ],
   "source": [
    "include(\"../src/PhysicalConstants.jl\")"
   ]
  },
  {
   "cell_type": "code",
   "execution_count": 3,
   "metadata": {},
   "outputs": [],
   "source": [
    "model, core, env, var = setup(\"../src/sample.ini\")\n",
    "sol = cooling(model, core, env, var);"
   ]
  },
  {
   "cell_type": "code",
   "execution_count": 4,
   "metadata": {},
   "outputs": [],
   "source": [
    "model, core, env, var = setup(\"../src/sample2.ini\")\n",
    "sol2 = cooling(model, core, env, var);"
   ]
  },
  {
   "cell_type": "code",
   "execution_count": 5,
   "metadata": {},
   "outputs": [
    {
     "data": {
      "text/plain": [
       "Plots.PyPlotBackend()"
      ]
     },
     "execution_count": 5,
     "metadata": {},
     "output_type": "execute_result"
    }
   ],
   "source": [
    "using Plots\n",
    "pyplot()"
   ]
  },
  {
   "cell_type": "code",
   "execution_count": 6,
   "metadata": {},
   "outputs": [
    {
     "data": {
      "image/png": "[encoded data removed]"
     },
     "execution_count": 6,
     "metadata": {},
     "output_type": "execute_result"
    }
   ],
   "source": [
    "plot(sol.t, sol.u, scale=:log10, yscale=:log10)\n",
    "plot!(sol2.t, sol2.u, scale=:log10, yscale=:log10)\n",
    "ylims!(1e2,1e11)"
   ]
  },
  {
   "cell_type": "code",
   "execution_count": 7,
   "metadata": {},
   "outputs": [],
   "source": [
    "model, core, env, var = setup(\"../src/sample.ini\")\n",
    "sol = heating(model, core, env, var, 1e-10, 1e-10);"
   ]
  },
  {
   "cell_type": "code",
   "execution_count": null,
   "metadata": {},
   "outputs": [],
   "source": [
    "model, core, env, var = setup(\"../src/sample2.ini\")\n",
    "sol2 = heating(model, core, env, var, 1e-10, 1e-10);"
   ]
  },
  {
   "cell_type": "code",
   "execution_count": null,
   "metadata": {},
   "outputs": [],
   "source": [
    "T = map(u->u[1], sol.u);\n",
    "eta_e = map(u->u[2]/kB, sol.u);\n",
    "eta_mu = map(u->u[3]/kB, sol.u);"
   ]
  },
  {
   "cell_type": "code",
   "execution_count": null,
   "metadata": {},
   "outputs": [],
   "source": [
    "plot(sol.t, T, scale=:log10)\n",
    "plot!(sol.t, eta_e, scale=:log10)\n",
    "plot!(sol.t, eta_mu, scale=:log10)\n",
    "ylims!(1e4,1e11)"
   ]
  },
  {
   "cell_type": "code",
   "execution_count": null,
   "metadata": {},
   "outputs": [],
   "source": [
    "T = map(u->u[1], sol2.u);\n",
    "eta_e = map(u->u[2]/kB, sol2.u);\n",
    "eta_mu = map(u->u[3]/kB, sol2.u);"
   ]
  },
  {
   "cell_type": "code",
   "execution_count": null,
   "metadata": {},
   "outputs": [],
   "source": [
    "plot(sol2.t, T, scale=:log10)\n",
    "plot!(sol2.t, eta_e, scale=:log10)\n",
    "plot!(sol2.t, eta_mu, scale=:log10)\n",
    "ylims!(1e4,1e11)"
   ]
  },
  {
   "cell_type": "code",
   "execution_count": null,
   "metadata": {},
   "outputs": [],
   "source": [
    "output_T(sol2, model, core, env, var)\n",
    "output_LC(sol2, model, core, env, var)"
   ]
  },
  {
   "cell_type": "code",
   "execution_count": null,
   "metadata": {},
   "outputs": [],
   "source": [
    "write_ini(sol2, model)"
   ]
  },
  {
   "cell_type": "code",
   "execution_count": null,
   "metadata": {},
   "outputs": [],
   "source": [
    "model, core, env, var = setup(\"../src/test/sample2.ini\")\n",
    "sol2 = heating(model, core, env, var, 1e-10, 1e-10);"
   ]
  },
  {
   "cell_type": "code",
   "execution_count": null,
   "metadata": {},
   "outputs": [],
   "source": [
    "T = map(u->u[1], sol2.u);\n",
    "eta_e = map(u->u[2]/kB, sol2.u);\n",
    "eta_mu = map(u->u[3]/kB, sol2.u);\n",
    "plot(sol2.t, T, scale=:log10)\n",
    "plot!(sol2.t, eta_e, scale=:log10)\n",
    "plot!(sol2.t, eta_mu, scale=:log10)\n",
    "ylims!(1e4,1e11)"
   ]
  },
  {
   "cell_type": "code",
   "execution_count": null,
   "metadata": {},
   "outputs": [],
   "source": []
  }
 ],
 "metadata": {
  "kernelspec": {
   "display_name": "Julia 1.0.3",
   "language": "julia",
   "name": "julia-1.0"
  },
  "language_info": {
   "file_extension": ".jl",
   "mimetype": "application/julia",
   "name": "julia",
   "version": "1.0.3"
  }
 },
 "nbformat": 4,
 "nbformat_minor": 2
}
